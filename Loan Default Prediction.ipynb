{
  "nbformat": 4,
  "nbformat_minor": 0,
  "metadata": {
    "colab": {
      "provenance": []
    },
    "kernelspec": {
      "name": "python3",
      "display_name": "Python 3"
    },
    "language_info": {
      "name": "python"
    }
  },
  "cells": [
    {
      "cell_type": "markdown",
      "source": [
        "**Loading Dataset**"
      ],
      "metadata": {
        "id": "HqTdVVesmdPn"
      }
    },
    {
      "cell_type": "code",
      "source": [
        "import pandas as pd\n",
        "df=pd.read_csv('test_lending_club.csv')\n",
        "\n",
        "df.head()"
      ],
      "metadata": {
        "colab": {
          "base_uri": "https://localhost:8080/",
          "height": 342
        },
        "id": "3rpGdvMrz7k4",
        "outputId": "0c7d08fc-1b0e-4d68-c7cb-d9c01a12fe11"
      },
      "execution_count": 85,
      "outputs": [
        {
          "output_type": "execute_result",
          "data": {
            "text/plain": [
              "      issue_d sub_grade        term home_ownership  fico_range_low  total_acc  \\\n",
              "0  2016-07-01        A4   36 months       MORTGAGE           830.0       13.0   \n",
              "1  2016-07-01        B5   36 months           RENT           660.0       25.0   \n",
              "2  2016-07-01        D2   36 months       MORTGAGE           660.0       17.0   \n",
              "3  2016-07-01        A1   36 months           RENT           740.0       36.0   \n",
              "4  2016-07-01        C4   60 months       MORTGAGE           680.0       14.0   \n",
              "\n",
              "   pub_rec  revol_util  annual_inc  int_rate  ...  pub_rec_bankruptcies  \\\n",
              "0      0.0        12.0    105682.0      7.99  ...                   0.0   \n",
              "1      0.0        59.4     68000.0     11.49  ...                   0.0   \n",
              "2      1.0        40.9     75000.0     17.99  ...                   1.0   \n",
              "3      0.0        27.7    114000.0      5.32  ...                   0.0   \n",
              "4      0.0        44.3     47000.0     14.49  ...                   0.0   \n",
              "\n",
              "  addr_state  initial_list_status  fico_range_high revol_bal          id  \\\n",
              "0         TX                    w            834.0    4266.0  84759443.0   \n",
              "1         CA                    w            664.0    6944.0  84433407.0   \n",
              "2         AZ                    w            664.0    5528.0  84646007.0   \n",
              "3         CA                    w            744.0   25912.0  84477434.0   \n",
              "4         OH                    w            684.0    4205.0  84525798.0   \n",
              "\n",
              "  open_acc  emp_length loan_status time_to_earliest_cr_line  \n",
              "0      5.0        11.0         1.0                 789004.8  \n",
              "1     11.0         6.0         1.0                 294624.0  \n",
              "2      6.0         3.0         1.0                 349747.2  \n",
              "3     16.0         1.0         1.0                 691632.0  \n",
              "4     12.0         2.0         0.0                 591667.2  \n",
              "\n",
              "[5 rows x 27 columns]"
            ],
            "text/html": [
              "\n",
              "  <div id=\"df-8766c5e4-7d85-4206-938c-94d000961faf\" class=\"colab-df-container\">\n",
              "    <div>\n",
              "<style scoped>\n",
              "    .dataframe tbody tr th:only-of-type {\n",
              "        vertical-align: middle;\n",
              "    }\n",
              "\n",
              "    .dataframe tbody tr th {\n",
              "        vertical-align: top;\n",
              "    }\n",
              "\n",
              "    .dataframe thead th {\n",
              "        text-align: right;\n",
              "    }\n",
              "</style>\n",
              "<table border=\"1\" class=\"dataframe\">\n",
              "  <thead>\n",
              "    <tr style=\"text-align: right;\">\n",
              "      <th></th>\n",
              "      <th>issue_d</th>\n",
              "      <th>sub_grade</th>\n",
              "      <th>term</th>\n",
              "      <th>home_ownership</th>\n",
              "      <th>fico_range_low</th>\n",
              "      <th>total_acc</th>\n",
              "      <th>pub_rec</th>\n",
              "      <th>revol_util</th>\n",
              "      <th>annual_inc</th>\n",
              "      <th>int_rate</th>\n",
              "      <th>...</th>\n",
              "      <th>pub_rec_bankruptcies</th>\n",
              "      <th>addr_state</th>\n",
              "      <th>initial_list_status</th>\n",
              "      <th>fico_range_high</th>\n",
              "      <th>revol_bal</th>\n",
              "      <th>id</th>\n",
              "      <th>open_acc</th>\n",
              "      <th>emp_length</th>\n",
              "      <th>loan_status</th>\n",
              "      <th>time_to_earliest_cr_line</th>\n",
              "    </tr>\n",
              "  </thead>\n",
              "  <tbody>\n",
              "    <tr>\n",
              "      <th>0</th>\n",
              "      <td>2016-07-01</td>\n",
              "      <td>A4</td>\n",
              "      <td>36 months</td>\n",
              "      <td>MORTGAGE</td>\n",
              "      <td>830.0</td>\n",
              "      <td>13.0</td>\n",
              "      <td>0.0</td>\n",
              "      <td>12.0</td>\n",
              "      <td>105682.0</td>\n",
              "      <td>7.99</td>\n",
              "      <td>...</td>\n",
              "      <td>0.0</td>\n",
              "      <td>TX</td>\n",
              "      <td>w</td>\n",
              "      <td>834.0</td>\n",
              "      <td>4266.0</td>\n",
              "      <td>84759443.0</td>\n",
              "      <td>5.0</td>\n",
              "      <td>11.0</td>\n",
              "      <td>1.0</td>\n",
              "      <td>789004.8</td>\n",
              "    </tr>\n",
              "    <tr>\n",
              "      <th>1</th>\n",
              "      <td>2016-07-01</td>\n",
              "      <td>B5</td>\n",
              "      <td>36 months</td>\n",
              "      <td>RENT</td>\n",
              "      <td>660.0</td>\n",
              "      <td>25.0</td>\n",
              "      <td>0.0</td>\n",
              "      <td>59.4</td>\n",
              "      <td>68000.0</td>\n",
              "      <td>11.49</td>\n",
              "      <td>...</td>\n",
              "      <td>0.0</td>\n",
              "      <td>CA</td>\n",
              "      <td>w</td>\n",
              "      <td>664.0</td>\n",
              "      <td>6944.0</td>\n",
              "      <td>84433407.0</td>\n",
              "      <td>11.0</td>\n",
              "      <td>6.0</td>\n",
              "      <td>1.0</td>\n",
              "      <td>294624.0</td>\n",
              "    </tr>\n",
              "    <tr>\n",
              "      <th>2</th>\n",
              "      <td>2016-07-01</td>\n",
              "      <td>D2</td>\n",
              "      <td>36 months</td>\n",
              "      <td>MORTGAGE</td>\n",
              "      <td>660.0</td>\n",
              "      <td>17.0</td>\n",
              "      <td>1.0</td>\n",
              "      <td>40.9</td>\n",
              "      <td>75000.0</td>\n",
              "      <td>17.99</td>\n",
              "      <td>...</td>\n",
              "      <td>1.0</td>\n",
              "      <td>AZ</td>\n",
              "      <td>w</td>\n",
              "      <td>664.0</td>\n",
              "      <td>5528.0</td>\n",
              "      <td>84646007.0</td>\n",
              "      <td>6.0</td>\n",
              "      <td>3.0</td>\n",
              "      <td>1.0</td>\n",
              "      <td>349747.2</td>\n",
              "    </tr>\n",
              "    <tr>\n",
              "      <th>3</th>\n",
              "      <td>2016-07-01</td>\n",
              "      <td>A1</td>\n",
              "      <td>36 months</td>\n",
              "      <td>RENT</td>\n",
              "      <td>740.0</td>\n",
              "      <td>36.0</td>\n",
              "      <td>0.0</td>\n",
              "      <td>27.7</td>\n",
              "      <td>114000.0</td>\n",
              "      <td>5.32</td>\n",
              "      <td>...</td>\n",
              "      <td>0.0</td>\n",
              "      <td>CA</td>\n",
              "      <td>w</td>\n",
              "      <td>744.0</td>\n",
              "      <td>25912.0</td>\n",
              "      <td>84477434.0</td>\n",
              "      <td>16.0</td>\n",
              "      <td>1.0</td>\n",
              "      <td>1.0</td>\n",
              "      <td>691632.0</td>\n",
              "    </tr>\n",
              "    <tr>\n",
              "      <th>4</th>\n",
              "      <td>2016-07-01</td>\n",
              "      <td>C4</td>\n",
              "      <td>60 months</td>\n",
              "      <td>MORTGAGE</td>\n",
              "      <td>680.0</td>\n",
              "      <td>14.0</td>\n",
              "      <td>0.0</td>\n",
              "      <td>44.3</td>\n",
              "      <td>47000.0</td>\n",
              "      <td>14.49</td>\n",
              "      <td>...</td>\n",
              "      <td>0.0</td>\n",
              "      <td>OH</td>\n",
              "      <td>w</td>\n",
              "      <td>684.0</td>\n",
              "      <td>4205.0</td>\n",
              "      <td>84525798.0</td>\n",
              "      <td>12.0</td>\n",
              "      <td>2.0</td>\n",
              "      <td>0.0</td>\n",
              "      <td>591667.2</td>\n",
              "    </tr>\n",
              "  </tbody>\n",
              "</table>\n",
              "<p>5 rows × 27 columns</p>\n",
              "</div>\n",
              "    <div class=\"colab-df-buttons\">\n",
              "\n",
              "  <div class=\"colab-df-container\">\n",
              "    <button class=\"colab-df-convert\" onclick=\"convertToInteractive('df-8766c5e4-7d85-4206-938c-94d000961faf')\"\n",
              "            title=\"Convert this dataframe to an interactive table.\"\n",
              "            style=\"display:none;\">\n",
              "\n",
              "  <svg xmlns=\"http://www.w3.org/2000/svg\" height=\"24px\" viewBox=\"0 -960 960 960\">\n",
              "    <path d=\"M120-120v-720h720v720H120Zm60-500h600v-160H180v160Zm220 220h160v-160H400v160Zm0 220h160v-160H400v160ZM180-400h160v-160H180v160Zm440 0h160v-160H620v160ZM180-180h160v-160H180v160Zm440 0h160v-160H620v160Z\"/>\n",
              "  </svg>\n",
              "    </button>\n",
              "\n",
              "  <style>\n",
              "    .colab-df-container {\n",
              "      display:flex;\n",
              "      gap: 12px;\n",
              "    }\n",
              "\n",
              "    .colab-df-convert {\n",
              "      background-color: #E8F0FE;\n",
              "      border: none;\n",
              "      border-radius: 50%;\n",
              "      cursor: pointer;\n",
              "      display: none;\n",
              "      fill: #1967D2;\n",
              "      height: 32px;\n",
              "      padding: 0 0 0 0;\n",
              "      width: 32px;\n",
              "    }\n",
              "\n",
              "    .colab-df-convert:hover {\n",
              "      background-color: #E2EBFA;\n",
              "      box-shadow: 0px 1px 2px rgba(60, 64, 67, 0.3), 0px 1px 3px 1px rgba(60, 64, 67, 0.15);\n",
              "      fill: #174EA6;\n",
              "    }\n",
              "\n",
              "    .colab-df-buttons div {\n",
              "      margin-bottom: 4px;\n",
              "    }\n",
              "\n",
              "    [theme=dark] .colab-df-convert {\n",
              "      background-color: #3B4455;\n",
              "      fill: #D2E3FC;\n",
              "    }\n",
              "\n",
              "    [theme=dark] .colab-df-convert:hover {\n",
              "      background-color: #434B5C;\n",
              "      box-shadow: 0px 1px 3px 1px rgba(0, 0, 0, 0.15);\n",
              "      filter: drop-shadow(0px 1px 2px rgba(0, 0, 0, 0.3));\n",
              "      fill: #FFFFFF;\n",
              "    }\n",
              "  </style>\n",
              "\n",
              "    <script>\n",
              "      const buttonEl =\n",
              "        document.querySelector('#df-8766c5e4-7d85-4206-938c-94d000961faf button.colab-df-convert');\n",
              "      buttonEl.style.display =\n",
              "        google.colab.kernel.accessAllowed ? 'block' : 'none';\n",
              "\n",
              "      async function convertToInteractive(key) {\n",
              "        const element = document.querySelector('#df-8766c5e4-7d85-4206-938c-94d000961faf');\n",
              "        const dataTable =\n",
              "          await google.colab.kernel.invokeFunction('convertToInteractive',\n",
              "                                                    [key], {});\n",
              "        if (!dataTable) return;\n",
              "\n",
              "        const docLinkHtml = 'Like what you see? Visit the ' +\n",
              "          '<a target=\"_blank\" href=https://colab.research.google.com/notebooks/data_table.ipynb>data table notebook</a>'\n",
              "          + ' to learn more about interactive tables.';\n",
              "        element.innerHTML = '';\n",
              "        dataTable['output_type'] = 'display_data';\n",
              "        await google.colab.output.renderOutput(dataTable, element);\n",
              "        const docLink = document.createElement('div');\n",
              "        docLink.innerHTML = docLinkHtml;\n",
              "        element.appendChild(docLink);\n",
              "      }\n",
              "    </script>\n",
              "  </div>\n",
              "\n",
              "\n",
              "    <div id=\"df-408825f7-8fca-436c-a98c-f3938fd9dc8c\">\n",
              "      <button class=\"colab-df-quickchart\" onclick=\"quickchart('df-408825f7-8fca-436c-a98c-f3938fd9dc8c')\"\n",
              "                title=\"Suggest charts\"\n",
              "                style=\"display:none;\">\n",
              "\n",
              "<svg xmlns=\"http://www.w3.org/2000/svg\" height=\"24px\"viewBox=\"0 0 24 24\"\n",
              "     width=\"24px\">\n",
              "    <g>\n",
              "        <path d=\"M19 3H5c-1.1 0-2 .9-2 2v14c0 1.1.9 2 2 2h14c1.1 0 2-.9 2-2V5c0-1.1-.9-2-2-2zM9 17H7v-7h2v7zm4 0h-2V7h2v10zm4 0h-2v-4h2v4z\"/>\n",
              "    </g>\n",
              "</svg>\n",
              "      </button>\n",
              "\n",
              "<style>\n",
              "  .colab-df-quickchart {\n",
              "      --bg-color: #E8F0FE;\n",
              "      --fill-color: #1967D2;\n",
              "      --hover-bg-color: #E2EBFA;\n",
              "      --hover-fill-color: #174EA6;\n",
              "      --disabled-fill-color: #AAA;\n",
              "      --disabled-bg-color: #DDD;\n",
              "  }\n",
              "\n",
              "  [theme=dark] .colab-df-quickchart {\n",
              "      --bg-color: #3B4455;\n",
              "      --fill-color: #D2E3FC;\n",
              "      --hover-bg-color: #434B5C;\n",
              "      --hover-fill-color: #FFFFFF;\n",
              "      --disabled-bg-color: #3B4455;\n",
              "      --disabled-fill-color: #666;\n",
              "  }\n",
              "\n",
              "  .colab-df-quickchart {\n",
              "    background-color: var(--bg-color);\n",
              "    border: none;\n",
              "    border-radius: 50%;\n",
              "    cursor: pointer;\n",
              "    display: none;\n",
              "    fill: var(--fill-color);\n",
              "    height: 32px;\n",
              "    padding: 0;\n",
              "    width: 32px;\n",
              "  }\n",
              "\n",
              "  .colab-df-quickchart:hover {\n",
              "    background-color: var(--hover-bg-color);\n",
              "    box-shadow: 0 1px 2px rgba(60, 64, 67, 0.3), 0 1px 3px 1px rgba(60, 64, 67, 0.15);\n",
              "    fill: var(--button-hover-fill-color);\n",
              "  }\n",
              "\n",
              "  .colab-df-quickchart-complete:disabled,\n",
              "  .colab-df-quickchart-complete:disabled:hover {\n",
              "    background-color: var(--disabled-bg-color);\n",
              "    fill: var(--disabled-fill-color);\n",
              "    box-shadow: none;\n",
              "  }\n",
              "\n",
              "  .colab-df-spinner {\n",
              "    border: 2px solid var(--fill-color);\n",
              "    border-color: transparent;\n",
              "    border-bottom-color: var(--fill-color);\n",
              "    animation:\n",
              "      spin 1s steps(1) infinite;\n",
              "  }\n",
              "\n",
              "  @keyframes spin {\n",
              "    0% {\n",
              "      border-color: transparent;\n",
              "      border-bottom-color: var(--fill-color);\n",
              "      border-left-color: var(--fill-color);\n",
              "    }\n",
              "    20% {\n",
              "      border-color: transparent;\n",
              "      border-left-color: var(--fill-color);\n",
              "      border-top-color: var(--fill-color);\n",
              "    }\n",
              "    30% {\n",
              "      border-color: transparent;\n",
              "      border-left-color: var(--fill-color);\n",
              "      border-top-color: var(--fill-color);\n",
              "      border-right-color: var(--fill-color);\n",
              "    }\n",
              "    40% {\n",
              "      border-color: transparent;\n",
              "      border-right-color: var(--fill-color);\n",
              "      border-top-color: var(--fill-color);\n",
              "    }\n",
              "    60% {\n",
              "      border-color: transparent;\n",
              "      border-right-color: var(--fill-color);\n",
              "    }\n",
              "    80% {\n",
              "      border-color: transparent;\n",
              "      border-right-color: var(--fill-color);\n",
              "      border-bottom-color: var(--fill-color);\n",
              "    }\n",
              "    90% {\n",
              "      border-color: transparent;\n",
              "      border-bottom-color: var(--fill-color);\n",
              "    }\n",
              "  }\n",
              "</style>\n",
              "\n",
              "      <script>\n",
              "        async function quickchart(key) {\n",
              "          const quickchartButtonEl =\n",
              "            document.querySelector('#' + key + ' button');\n",
              "          quickchartButtonEl.disabled = true;  // To prevent multiple clicks.\n",
              "          quickchartButtonEl.classList.add('colab-df-spinner');\n",
              "          try {\n",
              "            const charts = await google.colab.kernel.invokeFunction(\n",
              "                'suggestCharts', [key], {});\n",
              "          } catch (error) {\n",
              "            console.error('Error during call to suggestCharts:', error);\n",
              "          }\n",
              "          quickchartButtonEl.classList.remove('colab-df-spinner');\n",
              "          quickchartButtonEl.classList.add('colab-df-quickchart-complete');\n",
              "        }\n",
              "        (() => {\n",
              "          let quickchartButtonEl =\n",
              "            document.querySelector('#df-408825f7-8fca-436c-a98c-f3938fd9dc8c button');\n",
              "          quickchartButtonEl.style.display =\n",
              "            google.colab.kernel.accessAllowed ? 'block' : 'none';\n",
              "        })();\n",
              "      </script>\n",
              "    </div>\n",
              "\n",
              "    </div>\n",
              "  </div>\n"
            ],
            "application/vnd.google.colaboratory.intrinsic+json": {
              "type": "dataframe",
              "variable_name": "df"
            }
          },
          "metadata": {},
          "execution_count": 85
        }
      ]
    },
    {
      "cell_type": "markdown",
      "source": [
        "**Step 1 : Preprocess the data, handling missing values and class imbalance using techniques like SMOTE.**"
      ],
      "metadata": {
        "id": "9DBAFoZA1EQq"
      }
    },
    {
      "cell_type": "code",
      "source": [
        "target = 'loan_status'"
      ],
      "metadata": {
        "id": "y05o7Ypa-LhJ"
      },
      "execution_count": 86,
      "outputs": []
    },
    {
      "cell_type": "code",
      "source": [
        "#seperate features and target\n",
        "\n",
        "X = df.drop(columns=[target])\n",
        "y = df[target]"
      ],
      "metadata": {
        "id": "2HAINkvi-RtE"
      },
      "execution_count": 89,
      "outputs": []
    },
    {
      "cell_type": "code",
      "source": [
        "#For numeric columns, fill with median\n",
        "num_cols = X.select_dtypes(include=np.number).columns\n",
        "imputer_num = SimpleImputer(strategy='median')\n",
        "X[num_cols] = imputer_num.fit_transform(X[num_cols])"
      ],
      "metadata": {
        "id": "OJ8lNXZC-jGq"
      },
      "execution_count": 90,
      "outputs": []
    },
    {
      "cell_type": "code",
      "source": [
        "#For categorical columns, fill with mode\n",
        "cat_cols = X.select_dtypes(include='object').columns\n",
        "imputer_cat = SimpleImputer(strategy='most_frequent')\n",
        "X[cat_cols] = imputer_cat.fit_transform(X[cat_cols])"
      ],
      "metadata": {
        "id": "xav-RqDr-l2v"
      },
      "execution_count": 91,
      "outputs": []
    },
    {
      "cell_type": "code",
      "source": [
        "# Encode categorical variables\n",
        "for col in cat_cols:\n",
        "    le = LabelEncoder()\n",
        "    X[col] = le.fit_transform(X[col])"
      ],
      "metadata": {
        "id": "FCQpFThR-nmE"
      },
      "execution_count": 92,
      "outputs": []
    },
    {
      "cell_type": "code",
      "source": [
        "nan_rows_in_y = y.isnull()\n",
        "X = X[~nan_rows_in_y]\n",
        "y = y[~nan_rows_in_y]"
      ],
      "metadata": {
        "id": "ph_hnEzb-_Iq"
      },
      "execution_count": 95,
      "outputs": []
    },
    {
      "cell_type": "code",
      "source": [
        "#Traintest\n",
        "from sklearn.model_selection import train_test_split\n",
        "X_train, X_test, y_train, y_test = train_test_split(\n",
        "    X, y, test_size=0.2, random_state=42, stratify=y\n",
        ")"
      ],
      "metadata": {
        "id": "-xfpi1BR-tgT"
      },
      "execution_count": 96,
      "outputs": []
    },
    {
      "cell_type": "code",
      "source": [
        "#Handle class imbalance with SMOTE\n",
        "smote = SMOTE(random_state=42)\n",
        "X_train_res, y_train_res = smote.fit_resample(X_train, y_train)\n",
        "\n",
        "print(\"Before SMOTE:\", y_train.value_counts())\n",
        "print(\"After SMOTE:\", pd.Series(y_train_res).value_counts())\n"
      ],
      "metadata": {
        "colab": {
          "base_uri": "https://localhost:8080/"
        },
        "id": "kRJXYgUC_CRJ",
        "outputId": "cfbec54d-281b-40ea-b403-69ec5b6f2ee2"
      },
      "execution_count": 97,
      "outputs": [
        {
          "output_type": "stream",
          "name": "stdout",
          "text": [
            "Before SMOTE: loan_status\n",
            "1.0    12090\n",
            "0.0     1634\n",
            "Name: count, dtype: int64\n",
            "After SMOTE: loan_status\n",
            "0.0    12090\n",
            "1.0    12090\n",
            "Name: count, dtype: int64\n"
          ]
        }
      ]
    },
    {
      "cell_type": "markdown",
      "source": [
        "**Step 2 : Training LightGBM**"
      ],
      "metadata": {
        "id": "RtGZk4qr_Jp_"
      }
    },
    {
      "cell_type": "code",
      "source": [
        "from lightgbm import LGBMClassifier\n",
        "import lightgbm as lgb\n",
        "lgb_model = lgb.LGBMClassifier(random_state=42)\n",
        "lgb_model.fit(X_train_res, y_train_res)\n",
        "lgb_preds = lgb_model.predict(X_test)"
      ],
      "metadata": {
        "colab": {
          "base_uri": "https://localhost:8080/"
        },
        "id": "Afj-fB8W_NZj",
        "outputId": "f8ebd2dd-dcac-4591-ae01-505b8f0fff16"
      },
      "execution_count": 100,
      "outputs": [
        {
          "output_type": "stream",
          "name": "stdout",
          "text": [
            "[LightGBM] [Info] Number of positive: 12090, number of negative: 12090\n",
            "[LightGBM] [Info] Auto-choosing row-wise multi-threading, the overhead of testing was 0.004129 seconds.\n",
            "You can set `force_row_wise=true` to remove the overhead.\n",
            "And if memory is not enough, you can set `force_col_wise=true`.\n",
            "[LightGBM] [Info] Total Bins 4448\n",
            "[LightGBM] [Info] Number of data points in the train set: 24180, number of used features: 26\n",
            "[LightGBM] [Info] [binary:BoostFromScore]: pavg=0.500000 -> initscore=0.000000\n"
          ]
        }
      ]
    },
    {
      "cell_type": "markdown",
      "source": [
        "**Step 3 : Classificaion Report**"
      ],
      "metadata": {
        "id": "kmzmiIK-_cSD"
      }
    },
    {
      "cell_type": "code",
      "source": [
        "print(\"=== LightGBM Model ===\")\n",
        "print(classification_report(y_test, lgb_preds))\n",
        "print(\"Confusion Matrix:\\n\", confusion_matrix(y_test, lgb_preds))"
      ],
      "metadata": {
        "colab": {
          "base_uri": "https://localhost:8080/"
        },
        "id": "6Gqrkhia_e7T",
        "outputId": "c1cd11f6-2035-4c1d-f342-1475125d21fd"
      },
      "execution_count": 101,
      "outputs": [
        {
          "output_type": "stream",
          "name": "stdout",
          "text": [
            "=== LightGBM Model ===\n",
            "              precision    recall  f1-score   support\n",
            "\n",
            "         0.0       0.72      0.61      0.66       409\n",
            "         1.0       0.95      0.97      0.96      3023\n",
            "\n",
            "    accuracy                           0.93      3432\n",
            "   macro avg       0.83      0.79      0.81      3432\n",
            "weighted avg       0.92      0.93      0.92      3432\n",
            "\n",
            "Confusion Matrix:\n",
            " [[ 250  159]\n",
            " [  98 2925]]\n"
          ]
        }
      ]
    },
    {
      "cell_type": "markdown",
      "source": [
        "**Step 4 : Recommendations**\n"
      ],
      "metadata": {
        "id": "rY4LmhfQ_lic"
      }
    },
    {
      "cell_type": "code",
      "source": [
        "print(\"\\n--- Recommendations for Lenders ---\")\n",
        "print(\"\"\"\n",
        "1. Focus on applicants flagged as high risk (predicted default) for further manual review.\n",
        "2. Use financial indicators like debt-to-income ratio, credit history, and loan amount to refine lending decisions.\n",
        "3. Consider tighter credit limits or higher interest rates for borderline risk applicants.\n",
        "4. Use the model predictions to prioritize customer support and early intervention to reduce defaults.\n",
        "\"\"\")"
      ],
      "metadata": {
        "colab": {
          "base_uri": "https://localhost:8080/"
        },
        "id": "3T94cGRe_pZQ",
        "outputId": "31b34930-8c99-4c97-e567-07e8465b80ad"
      },
      "execution_count": 102,
      "outputs": [
        {
          "output_type": "stream",
          "name": "stdout",
          "text": [
            "\n",
            "--- Recommendations for Lenders ---\n",
            "\n",
            "1. Focus on applicants flagged as high risk (predicted default) for further manual review.\n",
            "2. Use financial indicators like debt-to-income ratio, credit history, and loan amount to refine lending decisions.\n",
            "3. Consider tighter credit limits or higher interest rates for borderline risk applicants.\n",
            "4. Use the model predictions to prioritize customer support and early intervention to reduce defaults.\n",
            "\n"
          ]
        }
      ]
    }
  ]
}